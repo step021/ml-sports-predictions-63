{
 "cells": [
  {
   "cell_type": "code",
   "execution_count": 13,
   "id": "128d58c4",
   "metadata": {},
   "outputs": [],
   "source": [
    "import pandas as pd\n",
    "from sklearn.preprocessing import MinMaxScaler\n",
    "df = pd.read_csv(\"TRAINABLE_teamdata.csv\")\n",
    "df = df.drop(['week', 'time_et', 'away', 'home'], axis=1)\n",
    "#df = df[df['neutral'] == False]\n",
    "#df = df.drop(['neutral'], axis=1)\n",
    "\n",
    "target_columns = df.iloc[:, :4]\n",
    "feature_columns = df.iloc[:, 4:]\n",
    "scaler = MinMaxScaler()\n",
    "scaled_features = pd.DataFrame(scaler.fit_transform(feature_columns), columns=feature_columns.columns)\n",
    "scaled_features = scaled_features.round(3)\n",
    "df_scaled = pd.concat([target_columns, scaled_features], axis=1)\n",
    "\n",
    "df = df_scaled\n",
    "df = df[df['neutral'] == False]\n",
    "df = df.drop('neutral', axis=1)\n",
    "\n",
    "df.to_csv(\"NORMALIZED_teamdata.csv\", index=False)\n",
    "\n",
    "df_2023 = df[df['season'] == 2023]  # Data for season 2023\n",
    "df_other_seasons = df[df['season'] != 2023]  # Data for other seasons\n",
    "df_2023 = df_2023.drop('season', axis=1)\n",
    "df_other_seasons = df_other_seasons.drop('season', axis=1)\n",
    "df_2023.to_csv(\"TEST_DATA.csv\", index=False)\n",
    "df_other_seasons.to_csv(\"TRAINING_DATA.csv\", index=False)\n"
   ]
  },
  {
   "cell_type": "code",
   "execution_count": null,
   "id": "029ce9c0",
   "metadata": {},
   "outputs": [],
   "source": []
  }
 ],
 "metadata": {
  "kernelspec": {
   "display_name": "Python 3 (ipykernel)",
   "language": "python",
   "name": "python3"
  },
  "language_info": {
   "codemirror_mode": {
    "name": "ipython",
    "version": 3
   },
   "file_extension": ".py",
   "mimetype": "text/x-python",
   "name": "python",
   "nbconvert_exporter": "python",
   "pygments_lexer": "ipython3",
   "version": "3.9.13"
  }
 },
 "nbformat": 4,
 "nbformat_minor": 5
}
