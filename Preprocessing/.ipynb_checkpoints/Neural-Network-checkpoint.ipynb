{
 "cells": [
  {
   "cell_type": "code",
   "execution_count": 1,
   "id": "7f544f9b",
   "metadata": {},
   "outputs": [
    {
     "name": "stdout",
     "output_type": "stream",
     "text": [
      "2.2.2\n"
     ]
    }
   ],
   "source": [
    "import torch\n",
    "print(torch.__version__)\n",
    "import pandas as pd\n",
    "import torch.nn as nn\n",
    "train_data = pd.read_csv('/Final Datasets/TRAINING_DATA.csv')\n",
    "test_data = pd.read_csv('/Final Datasets/TEST_DATA.csv')\n",
    "\n",
    "X_train = train_data.iloc[:, 2:].values  # All columns except the first two\n",
    "y_train = train_data.iloc[:, :2].values   # First two columns (target scores)\n",
    "\n",
    "X_test = test_data.iloc[:, 2:].values\n",
    "y_test = test_data.iloc[:, :2].values\n",
    "\n",
    "X_train_tensor = torch.FloatTensor(X_train)\n",
    "y_train_tensor = torch.FloatTensor(y_train)\n",
    "X_test_tensor = torch.FloatTensor(X_test)\n",
    "y_test_tensor = torch.FloatTensor(y_test)"
   ]
  },
  {
   "cell_type": "code",
   "execution_count": null,
   "id": "32793df2",
   "metadata": {},
   "outputs": [],
   "source": []
  }
 ],
 "metadata": {
  "kernelspec": {
   "display_name": "Python 3 (ipykernel)",
   "language": "python",
   "name": "python3"
  },
  "language_info": {
   "codemirror_mode": {
    "name": "ipython",
    "version": 3
   },
   "file_extension": ".py",
   "mimetype": "text/x-python",
   "name": "python",
   "nbconvert_exporter": "python",
   "pygments_lexer": "ipython3",
   "version": "3.9.13"
  }
 },
 "nbformat": 4,
 "nbformat_minor": 5
}
